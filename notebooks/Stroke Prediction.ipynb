{
 "cells": [
  {
   "cell_type": "markdown",
   "source": [
    "# Stroke Prediction Project with python"
   ],
   "attachments": {},
   "metadata": {
    "datalore": {
     "type": "MD",
     "hide_input_from_viewers": false,
     "hide_output_from_viewers": false
    }
   }
  },
  {
   "cell_type": "markdown",
   "source": [],
   "attachments": {},
   "metadata": {
    "datalore": {
     "type": "MD",
     "hide_input_from_viewers": false,
     "hide_output_from_viewers": false
    }
   }
  },
  {
   "cell_type": "markdown",
   "source": [
    "## References:\n",
    "\n",
    "- https://www.kaggle.com/oumarkane/stroke-prediction\n",
    "- https://www.kaggle.com/calebreigada/stroke-prediction-with-neural-networks-data-viz\n",
    "- https://www.kaggle.com/sanjoymondal0/stroke-prediction-accuracy-96/notebook\n",
    "- https://github.com/nurahmadi/Stroke-prediction-with-ML/blob/master/Stroke%20Prediction%20and%20Analysis%20-%20Notebook.ipynb\n",
    "- https://github.com/soumyavk/Stroke-Prediction-Model/blob/main/Stroke_analysis_and_prediction.ipynb"
   ],
   "attachments": {},
   "metadata": {
    "datalore": {
     "type": "MD",
     "hide_input_from_viewers": false,
     "hide_output_from_viewers": false
    }
   }
  },
  {
   "cell_type": "markdown",
   "source": [
    "## Problem Statement\n",
    "\n",
    " According to the World Health Organization (WHO) stroke is the 2nd leading cause of death globally, responsible for approximately 11% of total deaths. This dataset is used to predict whether a patient is likely to get stroke based on the input parameters like gender, age, various diseases, and smoking status. Each row in the data provides relavant information about the patient.\n",
    "\n",
    "Source - Kaggle - Stroke Prediction Dataset"
   ],
   "attachments": {},
   "metadata": {
    "datalore": {
     "type": "MD",
     "hide_input_from_viewers": false,
     "hide_output_from_viewers": false
    }
   }
  },
  {
   "cell_type": "markdown",
   "source": [
    "## Objective :\n",
    "\n",
    "- Predict whether a patient will have a heart stroke or not based on his/her comorbidity, work and lifestyle.\n",
    "- Determine what makes a person at risk for stroke.\n",
    "- Create a machine learning model to perform early detection of stroke for patients."
   ],
   "attachments": {},
   "metadata": {
    "datalore": {
     "type": "MD",
     "hide_input_from_viewers": false,
     "hide_output_from_viewers": false
    }
   }
  },
  {
   "cell_type": "markdown",
   "source": [
    "## Data Understanding\n",
    "\n",
    "**Features** :\n",
    "1. id: unique identifier\n",
    "2. gender: “Male”, “Female” or “Other”\n",
    "3. age: age of the patient\n",
    "4. hypertension: 0 if the patient does not have hypertension, 1 if the patient has hypertension\n",
    "5. heart_disease: 0 if the patient does not have any heart diseases, 1 if the patient has a heart disease\n",
    "6. ever_married: “No” or “Yes”\n",
    "7. work_type: “children”, “Govt_jov”, “Never_worked”, “Private” or “Self-employed”\n",
    "8. Residence_type: “Rural” or “Urban”\n",
    "9. avg_glucose_level: average glucose level in blood\n",
    "10. BMI: body mass index\n",
    "11. smoking_status: “formerly smoked”, “never smoked”, “smokes” or “Unknown”*\n",
    "12. stroke: 1 if the patient had a stroke or 0 if not"
   ],
   "attachments": {},
   "metadata": {
    "datalore": {
     "type": "MD",
     "hide_input_from_viewers": false,
     "hide_output_from_viewers": false
    }
   }
  },
  {
   "cell_type": "code",
   "source": [
    "!pip install imblearn"
   ],
   "execution_count": 6,
   "outputs": [
    {
     "name": "stdout",
     "text": [
      "Collecting imblearn\r\n",
      "  Downloading imblearn-0.0-py2.py3-none-any.whl (1.9 kB)\r\n",
      "Collecting imbalanced-learn\r\n",
      "  Downloading imbalanced_learn-0.9.0-py3-none-any.whl (199 kB)\r\n",
      "\u001B[?25l\r\r     |█▋                              | 10 kB 28.9 MB/s eta 0:00:01\r     |███▎                            | 20 kB 31.0 MB/s eta 0:00:01\r     |█████                           | 30 kB 34.0 MB/s eta 0:00:01\r     |██████▋                         | 40 kB 36.3 MB/s eta 0:00:01\r     |████████▎                       | 51 kB 27.1 MB/s eta 0:00:01\r     |█████████▉                      | 61 kB 28.8 MB/s eta 0:00:01\r     |███████████▌                    | 71 kB 31.1 MB/s eta 0:00:01\r     |█████████████▏                  | 81 kB 29.0 MB/s eta 0:00:01\r     |██████████████▉                 | 92 kB 29.2 MB/s eta 0:00:01\r     |████████████████▌               | 102 kB 30.9 MB/s eta 0:00:01\r     |██████████████████              | 112 kB 30.9 MB/s eta 0:00:01\r     |███████████████████▊            | 122 kB 30.9 MB/s eta 0:00:01\r     |█████████████████████▍          | 133 kB 30.9 MB/s eta 0:00:01\r     |███████████████████████         | 143 kB 30.9 MB/s eta 0:00:01\r     |████████████████████████▊       | 153 kB 30.9 MB/s eta 0:00:01\r     |██████████████████████████▎     | 163 kB 30.9 MB/s eta 0:00:01\r     |████████████████████████████    | 174 kB 30.9 MB/s eta 0:00:01\r     |█████████████████████████████▋  | 184 kB 30.9 MB/s eta 0:00:01\r     |███████████████████████████████▎| 194 kB 30.9 MB/s eta 0:00:01\r     |████████████████████████████████| 199 kB 30.9 MB/s            \r\n",
      "\u001B[?25hRequirement already satisfied: scipy>=1.1.0 in /opt/python/envs/default/lib/python3.8/site-packages (from imbalanced-learn->imblearn) (1.7.3)\r\n",
      "Requirement already satisfied: numpy>=1.14.6 in /opt/python/envs/default/lib/python3.8/site-packages (from imbalanced-learn->imblearn) (1.21.5)\r\n",
      "Requirement already satisfied: scikit-learn>=1.0.1 in /opt/python/envs/default/lib/python3.8/site-packages (from imbalanced-learn->imblearn) (1.0.1)\r\n",
      "Requirement already satisfied: joblib>=0.11 in /opt/python/envs/default/lib/python3.8/site-packages (from imbalanced-learn->imblearn) (1.1.0)\r\n",
      "Requirement already satisfied: threadpoolctl>=2.0.0 in /opt/python/envs/default/lib/python3.8/site-packages (from imbalanced-learn->imblearn) (3.1.0)\r\n",
      "Installing collected packages: imbalanced-learn, imblearn\r\n",
      "Successfully installed imbalanced-learn-0.9.0 imblearn-0.0\r\n",
      "\u001B[33mWARNING: You are using pip version 21.3.1; however, version 22.0.3 is available.\r\n",
      "You should consider upgrading via the '/opt/python/envs/default/bin/python -m pip install --upgrade pip' command.\u001B[0m\r\n"
     ],
     "output_type": "stream"
    }
   ],
   "metadata": {
    "datalore": {
     "type": "CODE",
     "hide_input_from_viewers": false,
     "hide_output_from_viewers": false
    }
   }
  },
  {
   "cell_type": "code",
   "source": [
    "# Importing all the relevant packages\n",
    "import os\n",
    "import pandas as pd\n",
    "import numpy as np\n",
    "import matplotlib.pyplot as plt\n",
    "import plotly.express as px\n",
    "import shutil\n",
    "import seaborn as sns\n",
    "# from pandas_profiling import ProfileReport\n",
    "from imblearn.over_sampling import SMOTE\n",
    "from sklearn.model_selection import train_test_split\n",
    "from sklearn.preprocessing import LabelEncoder, StandardScaler\n",
    "import time\n",
    "from sklearn.metrics import confusion_matrix, accuracy_score, classification_report\n",
    "from sklearn.metrics import auc,roc_auc_score,roc_curve,precision_score,recall_score,f1_score\n",
    "from sklearn.svm import SVC\n",
    "from sklearn.linear_model import LogisticRegression"
   ],
   "execution_count": 7,
   "outputs": [],
   "metadata": {
    "datalore": {
     "type": "CODE",
     "hide_input_from_viewers": false,
     "hide_output_from_viewers": false
    }
   }
  },
  {
   "cell_type": "markdown",
   "source": [
    "## Steps\n",
    "\n",
    "* [Data Load](#data-load)\n",
    "* [data analyze](#data-analyse)\n",
    "* [data preprocessing](#data-preprocessing)\n",
    "    * [process categorical features](#categorial-feature)\n",
    "    * [remove unnecessary features](#remove-features)\n",
    "    * [process missing data](#missing-data)\n",
    "    * [balanced target data classes](#balanced-dataset)\n",
    "* [save processed data](#save)\n",
    "* [split data for training](#split-dataset)\n",
    "* [implement the ML model](#ml-model)\n",
    "* [train model](#train-model)\n",
    "* [evaluate model](#evaluate-model)\n",
    "* [conclusion](#conclusion)\n"
   ],
   "attachments": {},
   "metadata": {
    "datalore": {
     "type": "MD",
     "hide_input_from_viewers": false,
     "hide_output_from_viewers": false
    }
   }
  },
  {
   "cell_type": "markdown",
   "source": [
    "## Data Load <a name=\"data-load\"></a>"
   ],
   "attachments": {},
   "metadata": {
    "datalore": {
     "type": "MD",
     "hide_input_from_viewers": false,
     "hide_output_from_viewers": false
    }
   }
  },
  {
   "cell_type": "code",
   "source": [
    "# copy raw data to processed folder :\n",
    "raw_data_path = \"data/raw/\"\n",
    "processed_data_path = \"data/processed/\"\n",
    "data_filename = \"healthcare-dataset-stroke-data.csv\"\n",
    "\n",
    "def load_data(raw, processed, data_name, verbose=False):\n",
    "    \"\"\"\n",
    "    Load processed data if file doesn't exist else Copy a .csv file from raw data folder to processed data folder \n",
    "    and load it.\n",
    "    params:\n",
    "    - raw_data_path: string, path to raw data\n",
    "    - processed_data_path: string, path to processed data folder\n",
    "    - data_filename: string, data name\n",
    "    - verbose: bool,  to print dataset information\n",
    "    return:\n",
    "    - data: .csv data processed\n",
    "    \"\"\"\n",
    "    # check if processed data file is empty:\n",
    "    if len(os.listdir(processed)) == 0:\n",
    "        # copy data raw\n",
    "        shutil.copyfile(raw + data_name, processed + data_name)\n",
    "    data_loaded = pd.read_csv(processed + data_name)\n",
    "    if verbose:\n",
    "        print(\"Data '{}' loaded with data shape: {}\".format(data_name, data_loaded.shape))\n",
    "    return data_loaded\n",
    "\n",
    "data = load_data(raw_data_path, processed_data_path, data_filename, verbose=True)\n",
    "print(data.describe())  # displays stats about the numerical features\n",
    "print(data.info())"
   ],
   "execution_count": 8,
   "outputs": [
    {
     "name": "stdout",
     "text": [
      "Data 'healthcare-dataset-stroke-data.csv' loaded with data shape: (5110, 11)\n",
      "            gender          age  hypertension  heart_disease  ever_married  \\\n",
      "count  5110.000000  5110.000000   5110.000000    5110.000000   5110.000000   \n",
      "mean      0.414286    43.226614      0.097456       0.054012      0.656164   \n",
      "std       0.493044    22.612647      0.296607       0.226063      0.475034   \n",
      "min       0.000000     0.080000      0.000000       0.000000      0.000000   \n",
      "25%       0.000000    25.000000      0.000000       0.000000      0.000000   \n",
      "50%       0.000000    45.000000      0.000000       0.000000      1.000000   \n",
      "75%       1.000000    61.000000      0.000000       0.000000      1.000000   \n",
      "max       2.000000    82.000000      1.000000       1.000000      1.000000   \n",
      "\n",
      "         work_type  Residence_type  avg_glucose_level          bmi  \\\n",
      "count  5110.000000     5110.000000        5110.000000  5110.000000   \n",
      "mean      2.167710        0.508023         106.147677    28.893237   \n",
      "std       1.090293        0.499985          45.283560     7.698018   \n",
      "min       0.000000        0.000000          55.120000    10.300000   \n",
      "25%       2.000000        0.000000          77.245000    23.800000   \n",
      "50%       2.000000        1.000000          91.885000    28.400000   \n",
      "75%       3.000000        1.000000         114.090000    32.800000   \n",
      "max       4.000000        1.000000         271.740000    97.600000   \n",
      "\n",
      "       smoking_status       stroke  \n",
      "count     5110.000000  5110.000000  \n",
      "mean         1.376908     0.048728  \n",
      "std          1.071534     0.215320  \n",
      "min          0.000000     0.000000  \n",
      "25%          0.000000     0.000000  \n",
      "50%          2.000000     0.000000  \n",
      "75%          2.000000     0.000000  \n",
      "max          3.000000     1.000000  \n",
      "<class 'pandas.core.frame.DataFrame'>\n",
      "RangeIndex: 5110 entries, 0 to 5109\n",
      "Data columns (total 11 columns):\n",
      " #   Column             Non-Null Count  Dtype  \n",
      "---  ------             --------------  -----  \n",
      " 0   gender             5110 non-null   int64  \n",
      " 1   age                5110 non-null   float64\n",
      " 2   hypertension       5110 non-null   int64  \n",
      " 3   heart_disease      5110 non-null   int64  \n",
      " 4   ever_married       5110 non-null   int64  \n",
      " 5   work_type          5110 non-null   int64  \n",
      " 6   Residence_type     5110 non-null   int64  \n",
      " 7   avg_glucose_level  5110 non-null   float64\n",
      " 8   bmi                5110 non-null   float64\n",
      " 9   smoking_status     5110 non-null   int64  \n",
      " 10  stroke             5110 non-null   int64  \n",
      "dtypes: float64(3), int64(8)\n",
      "memory usage: 439.3 KB\n",
      "None\n"
     ],
     "output_type": "stream"
    }
   ],
   "metadata": {
    "datalore": {
     "type": "CODE",
     "hide_input_from_viewers": false,
     "hide_output_from_viewers": false
    }
   }
  },
  {
   "cell_type": "code",
   "source": [
    "def save_df_csv(df, directory, file_name, verbose=False):\n",
    "    \"\"\"\n",
    "    Save dataframe csv file in \"directory/file_name.csv\".\n",
    "    params :\n",
    "    - directory : target directory to save csv file.\n",
    "    - file_name : csv dataframe name.\n",
    "    \"\"\"\n",
    "    df.to_csv(directory + file_name, index=False)\n",
    "    if verbose:\n",
    "        print(\"dataframe saved in: {}{} directory\".format(directory, file_name))\n",
    "    return"
   ],
   "execution_count": 85,
   "outputs": [],
   "metadata": {
    "datalore": {
     "type": "CODE",
     "hide_input_from_viewers": false,
     "hide_output_from_viewers": false
    }
   }
  },
  {
   "cell_type": "markdown",
   "source": [
    "## Data analyse <a name=\"data-analyse\"></a>"
   ],
   "attachments": {},
   "metadata": {
    "datalore": {
     "type": "MD",
     "hide_input_from_viewers": false,
     "hide_output_from_viewers": false
    }
   }
  },
  {
   "cell_type": "markdown",
   "source": [
    "### Missing and duplicated values"
   ],
   "attachments": {},
   "metadata": {
    "datalore": {
     "type": "MD",
     "hide_input_from_viewers": false,
     "hide_output_from_viewers": false
    }
   }
  },
  {
   "cell_type": "code",
   "source": [
    "# missing values\n",
    "miss_values = data.isna().sum()/len(data)*100  # displays amount of null values for each column\n",
    "print(miss_values)\n",
    "print(data.duplicated().sum())"
   ],
   "execution_count": 74,
   "outputs": [
    {
     "name": "stdout",
     "text": [
      "id                   0.000000\n",
      "gender               0.000000\n",
      "age                  0.000000\n",
      "hypertension         0.000000\n",
      "heart_disease        0.000000\n",
      "ever_married         0.000000\n",
      "work_type            0.000000\n",
      "Residence_type       0.000000\n",
      "avg_glucose_level    0.000000\n",
      "bmi                  3.933464\n",
      "smoking_status       0.000000\n",
      "stroke               0.000000\n",
      "dtype: float64\n",
      "0\n"
     ],
     "output_type": "stream"
    }
   ],
   "metadata": {
    "datalore": {
     "type": "CODE",
     "hide_input_from_viewers": false,
     "hide_output_from_viewers": false
    }
   }
  },
  {
   "cell_type": "markdown",
   "source": [
    "There are no redundant values.\n",
    "\n",
    "There are one variable that contains missing values: bmi (3.93%).\n",
    "For missing values in \"bmi\" we will replace them with the average of \"bmi\" values because there are not a lot of missing values.\n",
    "\n",
    "Visualize missing values repartition :"
   ],
   "attachments": {},
   "metadata": {
    "datalore": {
     "type": "MD",
     "hide_input_from_viewers": false,
     "hide_output_from_viewers": false
    }
   }
  },
  {
   "cell_type": "code",
   "source": [
    "px.imshow(data.isna())"
   ],
   "execution_count": 8,
   "outputs": [
    {
     "data": {
      "text/plain": [
       "Unsupported"
      ]
     },
     "metadata": {},
     "output_type": "display_data"
    }
   ],
   "metadata": {
    "datalore": {
     "type": "CODE",
     "hide_input_from_viewers": false,
     "hide_output_from_viewers": false
    }
   }
  },
  {
   "cell_type": "markdown",
   "source": [
    "The missing values are well distributed and represent only 4% of the data. Therefore, they can either be replaced by the mean value or by the most frequent value.\n",
    "We choose to replace the missing values with the mean"
   ],
   "attachments": {},
   "metadata": {
    "datalore": {
     "type": "MD",
     "hide_input_from_viewers": false,
     "hide_output_from_viewers": false
    }
   }
  },
  {
   "cell_type": "code",
   "source": [
    "data['bmi'] = data['bmi'].fillna(data['bmi'].mean())  # fill 'bmi' NaN values using 'bmi' mean\n",
    "data = data.drop('id',axis=1)  # remove id columns\n",
    "save_df_csv(data, processed_data_path, data_filename, verbose=True)\n",
    "\n",
    "print(data.axes)\n",
    "print(data.nunique())"
   ],
   "execution_count": 75,
   "outputs": [
    {
     "name": "stdout",
     "text": [
      "dataframe saved in: data/processed/healthcare-dataset-stroke-data.csv directory\n",
      "[RangeIndex(start=0, stop=5110, step=1), Index(['gender', 'age', 'hypertension', 'heart_disease', 'ever_married',\n",
      "       'work_type', 'Residence_type', 'avg_glucose_level', 'bmi',\n",
      "       'smoking_status', 'stroke'],\n",
      "      dtype='object')]\n",
      "gender                  3\n",
      "age                   104\n",
      "hypertension            2\n",
      "heart_disease           2\n",
      "ever_married            2\n",
      "work_type               5\n",
      "Residence_type          2\n",
      "avg_glucose_level    3979\n",
      "bmi                   419\n",
      "smoking_status          4\n",
      "stroke                  2\n",
      "dtype: int64\n"
     ],
     "output_type": "stream"
    }
   ],
   "metadata": {
    "datalore": {
     "type": "CODE",
     "hide_input_from_viewers": false,
     "hide_output_from_viewers": false
    }
   }
  },
  {
   "cell_type": "code",
   "source": [
    "# Now missing values:\n",
    "miss_values = data.isna().sum()/len(data)*100  # displays amount of null values for each column\n",
    "print(miss_values)\n",
    "print(data.duplicated().sum())"
   ],
   "execution_count": 76,
   "outputs": [
    {
     "name": "stdout",
     "text": [
      "gender               0.0\n",
      "age                  0.0\n",
      "hypertension         0.0\n",
      "heart_disease        0.0\n",
      "ever_married         0.0\n",
      "work_type            0.0\n",
      "Residence_type       0.0\n",
      "avg_glucose_level    0.0\n",
      "bmi                  0.0\n",
      "smoking_status       0.0\n",
      "stroke               0.0\n",
      "dtype: float64\n",
      "0\n"
     ],
     "output_type": "stream"
    }
   ],
   "metadata": {
    "datalore": {
     "type": "CODE",
     "hide_input_from_viewers": false,
     "hide_output_from_viewers": false
    }
   }
  },
  {
   "cell_type": "markdown",
   "source": [
    "### Variables repartition"
   ],
   "attachments": {},
   "metadata": {
    "datalore": {
     "type": "MD",
     "hide_input_from_viewers": false,
     "hide_output_from_viewers": false
    }
   }
  },
  {
   "cell_type": "code",
   "source": [
    "#display percent of dataset with stroke\n",
    "percentage_stroke = data['stroke'].value_counts(normalize = True)*100\n",
    "class_names = ['No Stroke','Stroke']\n",
    "print('Percent of patients in dataset with stroke: {}%'.format(round(percentage_stroke, 4)))\n",
    "\n",
    "fig, ax = plt.subplots()\n",
    "ax.pie(percentage_stroke, labels=class_names, autopct='%1.2f%%',\n",
    "        shadow=True, startangle=0, counterclock=False)\n",
    "ax.axis('equal')  # Equal aspect ratio ensures that pie is drawn as a circle.\n",
    "ax.set_title('Class distribution')\n",
    "plt.show()"
   ],
   "execution_count": 77,
   "outputs": [
    {
     "name": "stdout",
     "text": [
      "Percent of patients in dataset with stroke: 0    95.1272\n",
      "1     4.8728\n",
      "Name: stroke, dtype: float64%\n"
     ],
     "output_type": "stream"
    },
    {
     "data": {
      "image/png": "[encoded data removed]"
     },
     "metadata": {
      "image/png": {}
     },
     "output_type": "display_data"
    }
   ],
   "metadata": {
    "datalore": {
     "type": "CODE",
     "hide_input_from_viewers": false,
     "hide_output_from_viewers": false
    }
   }
  },
  {
   "cell_type": "markdown",
   "source": [
    "Transformation categorical data type.\n",
    "Apply the label encoding for categorical columns:"
   ],
   "attachments": {},
   "metadata": {
    "datalore": {
     "type": "MD",
     "hide_input_from_viewers": false,
     "hide_output_from_viewers": false
    }
   }
  },
  {
   "cell_type": "code",
   "source": [
    "# data type identification:\n",
    "print(data.dtypes)"
   ],
   "execution_count": 78,
   "outputs": [
    {
     "name": "stdout",
     "text": [
      "gender                object\n",
      "age                  float64\n",
      "hypertension           int64\n",
      "heart_disease          int64\n",
      "ever_married          object\n",
      "work_type             object\n",
      "Residence_type        object\n",
      "avg_glucose_level    float64\n",
      "bmi                  float64\n",
      "smoking_status        object\n",
      "stroke                 int64\n",
      "dtype: object\n"
     ],
     "output_type": "stream"
    }
   ],
   "metadata": {
    "datalore": {
     "type": "CODE",
     "hide_input_from_viewers": false,
     "hide_output_from_viewers": false
    }
   }
  },
  {
   "cell_type": "code",
   "source": [
    "categorical_columns = data.select_dtypes('object').columns\n",
    "print(categorical_columns)"
   ],
   "execution_count": 79,
   "outputs": [
    {
     "name": "stdout",
     "text": [
      "Index(['gender', 'ever_married', 'work_type', 'Residence_type',\n",
      "       'smoking_status'],\n",
      "      dtype='object')\n"
     ],
     "output_type": "stream"
    }
   ],
   "metadata": {
    "datalore": {
     "type": "CODE",
     "hide_input_from_viewers": false,
     "hide_output_from_viewers": false
    }
   }
  },
  {
   "cell_type": "code",
   "source": [
    "# Encode target labels with value between 0 and n_classes-1.\n",
    "# LabelEncoder can be used to normalized labels.abs\n",
    "\n",
    "def label_encoding(label):\n",
    "    from sklearn import preprocessing\n",
    "    label_encoder = preprocessing.LabelEncoder()\n",
    "    data[label] = label_encoder.fit_transform(data[label])\n",
    "    data[label].unique()"
   ],
   "execution_count": 80,
   "outputs": [],
   "metadata": {
    "datalore": {
     "type": "CODE",
     "hide_input_from_viewers": false,
     "hide_output_from_viewers": false
    }
   }
  },
  {
   "cell_type": "code",
   "source": [
    "for column in categorical_columns:\n",
    "    label_encoding(column)\n",
    "\n",
    "save_df_csv(data, processed_data_path, data_filename, verbose=True)\n",
    "print(data.dtypes)"
   ],
   "execution_count": 81,
   "outputs": [
    {
     "name": "stdout",
     "text": [
      "dataframe saved in: data/processed/healthcare-dataset-stroke-data.csv directory\n",
      "gender                 int64\n",
      "age                  float64\n",
      "hypertension           int64\n",
      "heart_disease          int64\n",
      "ever_married           int64\n",
      "work_type              int64\n",
      "Residence_type         int64\n",
      "avg_glucose_level    float64\n",
      "bmi                  float64\n",
      "smoking_status         int64\n",
      "stroke                 int64\n",
      "dtype: object\n"
     ],
     "output_type": "stream"
    }
   ],
   "metadata": {
    "datalore": {
     "type": "CODE",
     "hide_input_from_viewers": false,
     "hide_output_from_viewers": false
    }
   }
  },
  {
   "cell_type": "code",
   "source": [
    "# all variable proportions :\n",
    "fig, axes = plt.subplots(2, 4, sharex=True, figsize=(24,10))\n",
    "fig.suptitle('Count of all categorical variables')\n",
    "sns.countplot(ax=axes[0, 0], data=data, x='stroke',hue = 'gender',palette='crest')\n",
    "sns.countplot(ax=axes[0, 1], data=data, x='stroke',hue='hypertension',palette='RdPu')\n",
    "sns.countplot(ax=axes[0, 2], data=data, x='stroke',hue = 'heart_disease',palette='magma')\n",
    "sns.countplot(ax=axes[0, 3], data=data, x='stroke',hue = 'ever_married',palette=\"ch:s=-.2,r=.6\")\n",
    "sns.countplot(ax=axes[1,0],data = data, x ='stroke' ,hue = 'work_type',palette=\"dark:salmon_r\")\n",
    "sns.countplot(ax=axes[1,1],data = data, x ='stroke',hue='Residence_type',palette=\"coolwarm\" )\n",
    "sns.countplot(ax=axes[1,2],data = data, x ='stroke',hue='smoking_status',palette='viridis' )\n",
    "sns.countplot(ax=axes[1,3],data = data, x ='stroke',palette='RdPu' )\n",
    "plt.show()"
   ],
   "execution_count": 20,
   "outputs": [
    {
     "data": {
      "image/png": "[encoded data removed]"
     },
     "metadata": {
      "image/png": {}
     },
     "output_type": "display_data"
    }
   ],
   "metadata": {
    "datalore": {
     "type": "CODE",
     "hide_input_from_viewers": false,
     "hide_output_from_viewers": false
    }
   }
  },
  {
   "cell_type": "markdown",
   "source": [
    "Only about 5% of the patients in the dataset experienced a stroke. It makes creating out model more difficult.\n",
    "\n",
    "The number of valid people is much lower than the other one. Therefor, using accuracy metric is not relevant. We will use other metrics such as:\n",
    "- Recall: $\\frac{TP}{TP+FN}$. Calculates the percentage of positive tests among actual stroke patients.\n",
    "- Precision: $\\frac{TP}{TP+FN}$. Calculate the percentage of patients who are actually ill among those who test positive.\n",
    "- F1-score: $\\frac{2*recall*precision}{recall+precision}$."
   ],
   "attachments": {},
   "metadata": {
    "datalore": {
     "type": "MD",
     "hide_input_from_viewers": false,
     "hide_output_from_viewers": false
    }
   }
  },
  {
   "cell_type": "markdown",
   "source": [
    "Confusion matrix to visualize the relationship between the explanatory variables and the target variable."
   ],
   "attachments": {},
   "metadata": {
    "datalore": {
     "type": "MD",
     "hide_input_from_viewers": false,
     "hide_output_from_viewers": false
    }
   }
  },
  {
   "cell_type": "code",
   "source": [
    "# inter-feature correlation:\n",
    "fig, ax = plt.subplots(figsize=(8,6))\n",
    "im = ax.matshow(data.corr())\n",
    "ax.set_xticks(np.arange(data.shape[1]))\n",
    "ax.set_yticks(np.arange(data.shape[1]))\n",
    "ax.set_xticklabels(data.columns,rotation=90)\n",
    "ax.set_yticklabels(data.columns)\n",
    "# Create colorbar\n",
    "cbar = ax.figure.colorbar(im, ax=ax)\n",
    "cbar.ax.set_ylabel(\"Correlation\", rotation=-90, va=\"bottom\", fontsize=12)\n",
    "fig.tight_layout()\n",
    "plt.show()"
   ],
   "execution_count": 21,
   "outputs": [
    {
     "data": {
      "image/png": "[encoded data removed]"
     },
     "metadata": {
      "image/png": {}
     },
     "output_type": "display_data"
    }
   ],
   "metadata": {
    "datalore": {
     "type": "CODE",
     "hide_input_from_viewers": false,
     "hide_output_from_viewers": false
    }
   }
  },
  {
   "cell_type": "code",
   "source": [
    "# no categorical variable distribution:\n",
    "no_categorical_columns = [\"age\", \"avg_glucose_level\", \"bmi\"]\n",
    "\n",
    "fig, axs = plt.subplots(1, 3, figsize = (18, 4))\n",
    "axs = axs.flat\n",
    "\n",
    "for i, column in enumerate(no_categorical_columns):\n",
    "    fig.tight_layout(w_pad = 3, pad = 1.2)\n",
    "    color = \"green\" if i == 0 else \"blue\" \n",
    "    sns.histplot(data = data, x = column, kde = True, ax = axs[i], color = color)\n",
    "    "
   ],
   "execution_count": 22,
   "outputs": [
    {
     "data": {
      "image/png": "[encoded data removed]"
     },
     "metadata": {
      "image/png": {}
     },
     "output_type": "display_data"
    }
   ],
   "metadata": {
    "datalore": {
     "type": "CODE",
     "hide_input_from_viewers": false,
     "hide_output_from_viewers": false
    }
   }
  },
  {
   "cell_type": "markdown",
   "source": [
    "### Pandas Profiling:"
   ],
   "attachments": {},
   "metadata": {
    "datalore": {
     "type": "MD",
     "hide_input_from_viewers": false,
     "hide_output_from_viewers": false
    }
   }
  },
  {
   "cell_type": "code",
   "source": [
    "# profile = ProfileReport(data_frame, title = \"Investigation avec Pandas Profiling\")"
   ],
   "execution_count": 17,
   "outputs": [],
   "metadata": {
    "datalore": {
     "type": "CODE",
     "hide_input_from_viewers": false,
     "hide_output_from_viewers": false
    }
   }
  },
  {
   "cell_type": "markdown",
   "source": [
    "### Feature selection with SelectKBest algorithm.\n",
    "\n",
    "This function select the k features with the highest score_fucntion score, here is chi2.\n",
    "Chi2: a chi-square test is a statistical test used to compare observed results with expected results. The purpose of this test is to determine if a difference between observed data and expected data is due to chance, or if it is due to a relationship between the variables you are studying.\n",
    "\n",
    "Here we use the function to find out but it is not useful because k=10 is the number of all our variables, we do not need to select the first k variables."
   ],
   "attachments": {},
   "metadata": {
    "datalore": {
     "type": "MD",
     "hide_input_from_viewers": false,
     "hide_output_from_viewers": false
    }
   }
  },
  {
   "cell_type": "code",
   "source": [
    "from sklearn.feature_selection import SelectKBest\n",
    "from sklearn.feature_selection import chi2"
   ],
   "execution_count": 23,
   "outputs": [],
   "metadata": {
    "datalore": {
     "type": "CODE",
     "hide_input_from_viewers": false,
     "hide_output_from_viewers": false
    }
   }
  },
  {
   "cell_type": "code",
   "source": [
    "x = data.drop('stroke',axis=1)\n",
    "y = data['stroke']\n",
    "\n",
    "print(x.shape, y.shape)"
   ],
   "execution_count": 24,
   "outputs": [
    {
     "name": "stdout",
     "text": [
      "(5110, 10) (5110,)\n"
     ],
     "output_type": "stream"
    }
   ],
   "metadata": {
    "datalore": {
     "type": "CODE",
     "hide_input_from_viewers": false,
     "hide_output_from_viewers": false
    }
   }
  },
  {
   "cell_type": "code",
   "source": [
    "ordered_rank_features = SelectKBest(score_func=chi2, k=10)\n",
    "ordered_feature = ordered_rank_features.fit(x,y)\n",
    "\n",
    "dfscores = pd.DataFrame(ordered_feature.scores_, columns=[\"Score\"])\n",
    "dfcolumns = pd.DataFrame(x.columns)\n",
    "\n",
    "features_rank = pd.concat([dfcolumns, dfscores], axis=1)\n",
    "features_rank.columns = ['Features', 'Score']\n",
    "# print(features_rank)\n",
    "\n",
    "print(features_rank.nlargest(10, 'Score'))"
   ],
   "execution_count": 25,
   "outputs": [
    {
     "name": "stdout",
     "text": [
      "            Features        Score\n",
      "1                age  3635.226911\n",
      "7  avg_glucose_level  1718.285446\n",
      "3      heart_disease    87.987436\n",
      "2       hypertension    75.449498\n",
      "4       ever_married    20.622787\n",
      "8                bmi    15.894122\n",
      "9     smoking_status     3.369423\n",
      "5          work_type     2.925901\n",
      "6     Residence_type     0.600717\n",
      "0             gender     0.239001\n"
     ],
     "output_type": "stream"
    }
   ],
   "metadata": {
    "datalore": {
     "type": "CODE",
     "hide_input_from_viewers": false,
     "hide_output_from_viewers": false
    }
   }
  },
  {
   "cell_type": "markdown",
   "source": [
    "We observe that age variable is the most relevant variable for predicting stroke.\n",
    "If, later, the model overfit we can remove one or more variables among: \"residence_type\", \"work_type\", \"smoking_status\", \"bmi\" or \"ever_married\"."
   ],
   "attachments": {},
   "metadata": {
    "datalore": {
     "type": "MD",
     "hide_input_from_viewers": false,
     "hide_output_from_viewers": false
    }
   }
  },
  {
   "cell_type": "markdown",
   "source": [
    "### Relation between target et explicative variables:"
   ],
   "attachments": {},
   "metadata": {
    "datalore": {
     "type": "MD",
     "hide_input_from_viewers": false,
     "hide_output_from_viewers": false
    }
   }
  },
  {
   "cell_type": "code",
   "source": [
    "# non categorical variables / target:\n",
    "\n",
    "plt.figure(figsize = (15, 6))\n",
    "sns.histplot(data = data, x = \"age\", hue = \"stroke\", kde = True, palette = \"tab10\")\n",
    "plt.title(f\"Histogramme de la variable age\", fontsize = 14)\n",
    "plt.xlabel(\"age\", fontsize = 13)\n",
    "plt.ylabel(\"stroke\", fontsize = 12)\n",
    "plt.tight_layout(pad = 5)"
   ],
   "execution_count": 26,
   "outputs": [
    {
     "data": {
      "image/png": "[encoded data removed]"
     },
     "metadata": {
      "image/png": {}
     },
     "output_type": "display_data"
    }
   ],
   "metadata": {
    "datalore": {
     "type": "CODE",
     "hide_input_from_viewers": false,
     "hide_output_from_viewers": false
    }
   }
  },
  {
   "cell_type": "markdown",
   "source": [
    "We see that the two distributions are different. We see that older people are more likely to have a stroke."
   ],
   "attachments": {},
   "metadata": {
    "datalore": {
     "type": "MD",
     "hide_input_from_viewers": false,
     "hide_output_from_viewers": false
    }
   }
  },
  {
   "cell_type": "code",
   "source": [
    "plt.figure(figsize = (15, 8))\n",
    "sns.histplot(data = data, x = \"avg_glucose_level\", hue = \"stroke\", kde = True, palette = \"tab10\")\n",
    "plt.title(f\"Histogramme de la variable avg_glucose_level\", fontsize = 14)\n",
    "plt.xlabel(\"avg_glucose_level\", fontsize = 13)\n",
    "plt.ylabel(\"stroke\", fontsize = 12)\n",
    "plt.tight_layout(pad = 5)"
   ],
   "execution_count": 27,
   "outputs": [
    {
     "data": {
      "image/png": "[encoded data removed]"
     },
     "metadata": {
      "image/png": {}
     },
     "output_type": "display_data"
    }
   ],
   "metadata": {
    "datalore": {
     "type": "CODE",
     "hide_input_from_viewers": false,
     "hide_output_from_viewers": false
    }
   }
  },
  {
   "cell_type": "code",
   "source": [
    "plt.figure(figsize = (15, 8))\n",
    "sns.histplot(data = data, x = \"bmi\", hue = \"stroke\", kde = True, palette = \"tab10\")\n",
    "plt.title(f\"Histogramme de la variable bmi\", fontsize = 14)\n",
    "plt.xlabel(\"bmi\", fontsize = 13)\n",
    "plt.ylabel(\"stroke\", fontsize = 12)\n",
    "plt.tight_layout(pad = 5)"
   ],
   "execution_count": 28,
   "outputs": [
    {
     "data": {
      "image/png": "[encoded data removed]"
     },
     "metadata": {
      "image/png": {}
     },
     "output_type": "display_data"
    }
   ],
   "metadata": {
    "datalore": {
     "type": "CODE",
     "hide_input_from_viewers": false,
     "hide_output_from_viewers": false
    }
   }
  },
  {
   "cell_type": "markdown",
   "source": [
    "For \"bmi\" and \"avg_glucose_level\", the distributions are similar. We cannot therefore conclude on the relationship between these two variables and the target variable."
   ],
   "attachments": {},
   "metadata": {
    "datalore": {
     "type": "MD",
     "hide_input_from_viewers": false,
     "hide_output_from_viewers": false
    }
   }
  },
  {
   "cell_type": "markdown",
   "source": [
    "### Outliers:"
   ],
   "attachments": {},
   "metadata": {
    "datalore": {
     "type": "MD",
     "hide_input_from_viewers": false,
     "hide_output_from_viewers": false
    }
   }
  },
  {
   "cell_type": "code",
   "source": [
    "fig, axs = plt.subplots(1, 3, figsize = (18, 4))\n",
    "axs = axs.flat\n",
    "\n",
    "for i,column in enumerate(no_categorical_columns):\n",
    "    sns.boxplot(data=data, x=\"stroke\", y=column, hue=\"stroke\", ax=axs[i], palette=\"tab10\")\n",
    "    axs[i].set_title(f\"Variable {column}\", fontsize=14)"
   ],
   "execution_count": 29,
   "outputs": [
    {
     "data": {
      "image/png": "[encoded data removed]"
     },
     "metadata": {
      "image/png": {}
     },
     "output_type": "display_data"
    }
   ],
   "metadata": {
    "datalore": {
     "type": "CODE",
     "hide_input_from_viewers": false,
     "hide_output_from_viewers": false
    }
   }
  },
  {
   "cell_type": "markdown",
   "source": [
    "## Data Preprocessing: <a name=\"data-preprocessing\"></a>"
   ],
   "attachments": {},
   "metadata": {
    "datalore": {
     "type": "MD",
     "hide_input_from_viewers": false,
     "hide_output_from_viewers": false
    }
   }
  },
  {
   "cell_type": "code",
   "source": [
    "#removes labels from dataset\n",
    "X, y = data.drop('stroke', axis=1).values, data['stroke'].values\n",
    "print(X.shape, y.shape)"
   ],
   "execution_count": 9,
   "outputs": [
    {
     "name": "stdout",
     "text": [
      "(5110, 10) (5110,)\n"
     ],
     "output_type": "stream"
    }
   ],
   "metadata": {
    "datalore": {
     "type": "CODE",
     "hide_input_from_viewers": false,
     "hide_output_from_viewers": false
    }
   }
  },
  {
   "cell_type": "markdown",
   "source": [
    "### Data split <a name=\"split-dataset\"></a>"
   ],
   "attachments": {},
   "metadata": {
    "datalore": {
     "type": "MD",
     "hide_input_from_viewers": false,
     "hide_output_from_viewers": false
    }
   }
  },
  {
   "cell_type": "code",
   "source": [
    "#Splits the data into train, test, validate\n",
    "X_train, X_test, y_train, y_test = train_test_split(X, y, test_size=0.25, random_state=0)\n",
    "# X_val, X_test, y_val, y_test = train_test_split(X_test, y_test, test_size=0.5, random_state=0)\n",
    "\n",
    "#displays the amount of samples in each dataset\n",
    "print('Samples in Train Set:', len(X_train))\n",
    "# print('Samples in Validation Set:', len(X_val))\n",
    "print('Samples in Test Set:', len(X_test))"
   ],
   "execution_count": 10,
   "outputs": [
    {
     "name": "stdout",
     "text": [
      "Samples in Train Set: 3832\n",
      "Samples in Test Set: 1278\n"
     ],
     "output_type": "stream"
    }
   ],
   "metadata": {
    "datalore": {
     "type": "CODE",
     "hide_input_from_viewers": false,
     "hide_output_from_viewers": false
    }
   }
  },
  {
   "cell_type": "markdown",
   "source": [
    "### Imbalanced dataset: <a name=\"balanced-dataset\"></a>\n",
    "[(source)](https://heartbeat.comet.ml/resampling-to-properly-handle-imbalanced-datasets-in-machine-learning-64d82c16ceaa)\n",
    "\n",
    "Synthetic Minority Oversampling Technique (SMOTE): by synthesising new samples from the minority class to have the same number of samples as the majority class.\n",
    "Oversampling technique is chosen because we do not want to loose significant amount of information (97.88%) as if we use undersampling technique.\n",
    "\n",
    "SMOTE stands for Synthetic Minority Oversampling Technique — it consists of creating or synthesizing elements or samples from the minority class rather than creating copies based on those that exist already. This is used to avoid model overfitting.\n",
    "\n",
    "To create a synthetic instance, SMOTE finds the K-nearest neighbors of each minority instance, randomly selects one of them and then calculates linear interpolations to produce a new minority instance in the neighborhood. It can be also explained by changing this instance features one at a time by a random amount — so as a result, the new points are added between the neighbors."
   ],
   "attachments": {},
   "metadata": {
    "datalore": {
     "type": "MD",
     "hide_input_from_viewers": false,
     "hide_output_from_viewers": false
    }
   }
  },
  {
   "cell_type": "code",
   "source": [
    "# create the  object with the desired sampling strategy.\n",
    "smote = SMOTE(sampling_strategy='minority')\n",
    "\n",
    "# fit the object to our training data\n",
    "X_train_balanced, y_train_balanced = smote.fit_resample(X_train, y_train)\n",
    "\n",
    "# Displays perccent of each class\n",
    "print('Initial Dataset')\n",
    "print('Percent \"stroke\":', y_train.sum()/len(y_train))\n",
    "print('Balanced Dataset')\n",
    "print('Percent \"stroke\":', y_train_balanced.sum()/len(y_train_balanced))\n",
    "\n",
    "X_train = X_train_balanced\n",
    "y_train = y_train_balanced"
   ],
   "execution_count": 11,
   "outputs": [
    {
     "name": "stdout",
     "text": [
      "Initial Dataset\n",
      "Percent \"stroke\": 0.04801670146137787\n",
      "Balanced Dataset\n",
      "Percent \"stroke\": 0.5\n"
     ],
     "output_type": "stream"
    }
   ],
   "metadata": {
    "datalore": {
     "type": "CODE",
     "hide_input_from_viewers": false,
     "hide_output_from_viewers": false
    }
   }
  },
  {
   "cell_type": "markdown",
   "source": [
    "### Data normalization:"
   ],
   "attachments": {},
   "metadata": {
    "datalore": {
     "type": "MD",
     "hide_input_from_viewers": false,
     "hide_output_from_viewers": false
    }
   }
  },
  {
   "cell_type": "code",
   "source": [
    "scaler = StandardScaler()\n",
    "scaler = scaler.fit(X_train)\n",
    "\n",
    "X_train_std = scaler.transform(X_train)\n",
    "# X_valid_std = scaler.transform(X_val)\n",
    "X_test_std = scaler.transform(X_test)\n",
    "\n",
    "X_train = X_train_std\n",
    "# X_val = X_valid_std\n",
    "X_test = X_test_std\n",
    "#displays the amount of samples in each dataset\n",
    "print('Samples in Train Set:', len(X_train))\n",
    "# print('Samples in Validation Set:', len(X_val))\n",
    "print('Samples in Test Set:', len(X_test))"
   ],
   "execution_count": 12,
   "outputs": [
    {
     "name": "stdout",
     "text": [
      "Samples in Train Set: 7296\n",
      "Samples in Test Set: 1278\n"
     ],
     "output_type": "stream"
    }
   ],
   "metadata": {
    "datalore": {
     "type": "CODE",
     "hide_input_from_viewers": false,
     "hide_output_from_viewers": false
    }
   }
  },
  {
   "cell_type": "markdown",
   "source": [
    "## ML model training and Evaluation\n",
    "\n",
    "1. SVM\n",
    "2. Gaussian Naive Bayes\n",
    "3. Logistic Regression\n",
    "4. Decision Tree\n",
    "5. Random Forest\n",
    "6. LightGBM\n",
    "7. XGboost\n",
    "8. Neural Network\n",
    "\n",
    "### Performance Metrics :\n",
    "\n",
    "1. Sensitivity, specificity, and area under the curve (AUC)\n",
    "2. Precision, recall, and F1 score."
   ],
   "attachments": {},
   "metadata": {
    "datalore": {
     "type": "MD",
     "hide_input_from_viewers": false,
     "hide_output_from_viewers": false
    }
   }
  },
  {
   "cell_type": "code",
   "source": [
    "from sklearn.model_selection import cross_val_score\n",
    "\n",
    "# python decorator to measure the execution time of methods:\n",
    "def timeit(method):\n",
    "    def timed(*args, **kw):\n",
    "        time_start = time.time()\n",
    "        result = method(*args, **kw)\n",
    "        time_end = time.time()\n",
    "        if 'log_time' in kw:\n",
    "            name = kw.get('log_name', method.__name__.upper())\n",
    "            kw['log_time'][name] = int((time_end - time_start) * 1000)\n",
    "        else:\n",
    "            print('{} {:.2f} ms'.format(method.__name__, (time_end - time_start)*1000))\n",
    "        return result\n",
    "    return timed\n",
    "\n",
    "@timeit\n",
    "def classifier_training(model, X, y):\n",
    "    model.fit(X, y)\n",
    "\n",
    "\n",
    "def calcul_sensitivity_speccitivity(y_true,y_pred):\n",
    "    conf_matrix = confusion_matrix(y_true,y_pred)\n",
    "    TP = conf_matrix[1][1]\n",
    "    TN = conf_matrix[0][0]\n",
    "    FP = conf_matrix[0][1]\n",
    "    FN = conf_matrix[1][0]\n",
    "    # calculate the sensitivity\n",
    "    sensitivity = TP / (TP + FN)    \n",
    "    # calculate the specificity\n",
    "    specificity = TN / (TN + FP)\n",
    "    return sensitivity,specificity\n",
    "\n",
    "\n",
    "def compute_score(model, x_t, y_t, verbose=True):\n",
    "    y_p = model.predict(x_t)\n",
    "    y_p_proba = model.predict_proba(x_t)\n",
    "    score = accuracy_score(y_t,y_p)\n",
    "    if verbose:\n",
    "        print(\"Accuracy score for {}: {:.2f}%\".format(type(model).__name__, score*100))\n",
    "    return y_p, y_p_proba, score"
   ],
   "execution_count": 18,
   "outputs": [],
   "metadata": {
    "datalore": {
     "type": "CODE",
     "hide_input_from_viewers": false,
     "hide_output_from_viewers": false
    }
   }
  },
  {
   "cell_type": "markdown",
   "source": [
    "### SVM"
   ],
   "attachments": {},
   "metadata": {
    "datalore": {
     "type": "MD",
     "hide_input_from_viewers": false,
     "hide_output_from_viewers": false
    }
   }
  },
  {
   "cell_type": "code",
   "source": [
    "# training model with train data\n",
    "classifier_svm = SVC(kernel='rbf', random_state=0, probability=True)\n",
    "classifier_training(classifier_svm, X_train, y_train)"
   ],
   "execution_count": 14,
   "outputs": [
    {
     "name": "stdout",
     "text": [
      "classifier_training 5676.88 ms\n"
     ],
     "output_type": "stream"
    }
   ],
   "metadata": {
    "datalore": {
     "type": "CODE",
     "hide_input_from_viewers": false,
     "hide_output_from_viewers": false
    }
   }
  },
  {
   "cell_type": "code",
   "source": [
    "# score:\n",
    "y_pred, y_pred_proba, acc_svm = compute_score(classifier_svm, X_test, y_test)"
   ],
   "execution_count": 19,
   "outputs": [
    {
     "name": "stdout",
     "text": [
      "Accuracy score for SVC: 87.95%\n"
     ],
     "output_type": "stream"
    }
   ],
   "metadata": {
    "datalore": {
     "type": "CODE",
     "hide_input_from_viewers": false,
     "hide_output_from_viewers": false
    }
   }
  },
  {
   "cell_type": "code",
   "source": [
    "print(\"Classification report for SVM: \\n{}\".format(classification_report(y_test,y_pred)))\n",
    "print(\"Confusion matrix for SVM: \\n{}\".format(confusion_matrix(y_test,y_pred)))\n",
    "print(\"Accuracy score for SVM: {:.2f}\".format(accuracy_score(y_test,y_pred)))"
   ],
   "execution_count": 20,
   "outputs": [
    {
     "name": "stdout",
     "text": [
      "Classification report for SVM: \n",
      "              precision    recall  f1-score   support\n",
      "\n",
      "           0       0.96      0.92      0.94      1213\n",
      "           1       0.11      0.20      0.14        65\n",
      "\n",
      "    accuracy                           0.88      1278\n",
      "   macro avg       0.53      0.56      0.54      1278\n",
      "weighted avg       0.91      0.88      0.89      1278\n",
      "\n",
      "Confusion matrix for SVM: \n",
      "[[1111  102]\n",
      " [  52   13]]\n",
      "Accuracy score for SVM: 0.88\n"
     ],
     "output_type": "stream"
    }
   ],
   "metadata": {
    "datalore": {
     "type": "CODE",
     "hide_input_from_viewers": false,
     "hide_output_from_viewers": false
    }
   }
  },
  {
   "cell_type": "code",
   "source": [
    "# calculate precision, recall, and f1 scores\n",
    "prec_svm = precision_score(y_test,y_pred)\n",
    "rec_svm = recall_score(y_test,y_pred)\n",
    "f1_svm = f1_score(y_test,y_pred)\n",
    "print(\"Precision score for SVM: {:.2f}\".format(prec_svm))\n",
    "print(\"Recall score for SVM: {:.2f}\".format(rec_svm))\n",
    "print(\"F1 score for SVM: {:.2f}\".format(f1_svm))"
   ],
   "execution_count": 21,
   "outputs": [
    {
     "name": "stdout",
     "text": [
      "Precision score for SVM: 0.11\n",
      "Recall score for SVM: 0.20\n",
      "F1 score for SVM: 0.14\n"
     ],
     "output_type": "stream"
    }
   ],
   "metadata": {
    "datalore": {
     "type": "CODE",
     "hide_input_from_viewers": false,
     "hide_output_from_viewers": false
    }
   }
  },
  {
   "cell_type": "code",
   "source": [
    "# calculate sensitivity, specificity, and auc\n",
    "sens_svm,spec_svm = calcul_sensitivity_speccitivity(y_test,y_pred)\n",
    "fpr, tpr, _ = roc_curve(y_test,  y_pred_proba[:,1])\n",
    "auc_svm = roc_auc_score(y_test, y_pred_proba[:,1])\n",
    "print(\"Sensitivity score for SVM: {:.2f}\".format(sens_svm))\n",
    "print(\"Specitivity score for SVM: {:.2f}\".format(spec_svm))\n",
    "print(\"AUC score for SVM: {:.2f}\".format(auc_svm))\n",
    "\n",
    "# plot ROC curve: \n",
    "fig, ax = plt.subplots()\n",
    "ax.plot(fpr, tpr, color='blue', label='ROC curve (area = %0.2f)' % auc_svm)\n",
    "ax.plot([0, 1], [0, 1], color='green', linestyle='--')\n",
    "ax.set_xlim([-0.05, 1.0])\n",
    "ax.set_ylim([0.0, 1.05])\n",
    "ax.set_xlabel('False Positive Rate')\n",
    "ax.set_ylabel('True Positive Rate')\n",
    "ax.set_title('Receiver Operating Characteristic (SVM)')\n",
    "ax.legend(loc=\"lower right\")\n",
    "plt.show()"
   ],
   "execution_count": 22,
   "outputs": [
    {
     "name": "stdout",
     "text": [
      "Sensitivity score for SVM: 0.20\n",
      "Specitivity score for SVM: 0.92\n",
      "AUC score for SVM: 0.72\n"
     ],
     "output_type": "stream"
    },
    {
     "data": {
      "image/png": "[encoded data removed]"
     },
     "metadata": {
      "image/png": {}
     },
     "output_type": "display_data"
    }
   ],
   "metadata": {
    "datalore": {
     "type": "CODE",
     "hide_input_from_viewers": false,
     "hide_output_from_viewers": false
    }
   }
  },
  {
   "cell_type": "markdown",
   "source": [
    "### Logistic regression :"
   ],
   "attachments": {},
   "metadata": {
    "datalore": {
     "type": "MD",
     "hide_input_from_viewers": false,
     "hide_output_from_viewers": false
    }
   }
  },
  {
   "cell_type": "code",
   "source": [
    "from sklearn.linear_model import LogisticRegression\n",
    "\n",
    "classifier_logistic_regression = LogisticRegression(random_state = 0)\n",
    "classifier_training(classifier_logistic_regression, X_train, y_train)"
   ],
   "execution_count": 23,
   "outputs": [
    {
     "name": "stdout",
     "text": [
      "classifier_training 20.71 ms\n"
     ],
     "output_type": "stream"
    }
   ],
   "metadata": {
    "datalore": {
     "type": "CODE",
     "hide_input_from_viewers": false,
     "hide_output_from_viewers": false
    }
   }
  },
  {
   "cell_type": "code",
   "source": [
    "# score:\n",
    "y_pred_log_reg, _, acc_log_reg = compute_score(classifier_logistic_regression, X_test, y_test)\n",
    "\n",
    "# confusion matrix\n",
    "cm = confusion_matrix(y_test, y_pred_log_reg)\n",
    "print(cm)"
   ],
   "execution_count": 24,
   "outputs": [
    {
     "name": "stdout",
     "text": [
      "Accuracy score for LogisticRegression: 75.59%\n",
      "[[918 295]\n",
      " [ 17  48]]\n"
     ],
     "output_type": "stream"
    }
   ],
   "metadata": {
    "datalore": {
     "type": "CODE",
     "hide_input_from_viewers": false,
     "hide_output_from_viewers": false
    }
   }
  },
  {
   "cell_type": "markdown",
   "source": [
    "### KNN"
   ],
   "attachments": {},
   "metadata": {
    "datalore": {
     "type": "MD",
     "hide_input_from_viewers": false,
     "hide_output_from_viewers": false
    }
   }
  },
  {
   "cell_type": "code",
   "source": [
    "from sklearn.neighbors import KNeighborsClassifier\n",
    "classifier_knn = KNeighborsClassifier(n_neighbors=5, metric='minkowski', p=2)\n",
    "classifier_training(classifier_knn, X_train, y_train)"
   ],
   "execution_count": 25,
   "outputs": [
    {
     "name": "stdout",
     "text": [
      "classifier_training 9.14 ms\n"
     ],
     "output_type": "stream"
    }
   ],
   "metadata": {
    "datalore": {
     "type": "CODE",
     "hide_input_from_viewers": false,
     "hide_output_from_viewers": false
    }
   }
  },
  {
   "cell_type": "code",
   "source": [
    "# score:\n",
    "y_pred_knn, _, acc_knn = compute_score(classifier_knn, X_test, y_test)\n",
    "\n",
    "# prediction\n",
    "cm = confusion_matrix(y_test, y_pred_knn)\n",
    "print(cm)"
   ],
   "execution_count": 26,
   "outputs": [
    {
     "name": "stdout",
     "text": [
      "Accuracy score for KNeighborsClassifier: 85.45%\n",
      "[[1071  142]\n",
      " [  44   21]]\n"
     ],
     "output_type": "stream"
    }
   ],
   "metadata": {
    "datalore": {
     "type": "CODE",
     "hide_input_from_viewers": false,
     "hide_output_from_viewers": false
    }
   }
  },
  {
   "cell_type": "markdown",
   "source": [
    "### Gaussian Naive Bayes Classification"
   ],
   "attachments": {},
   "metadata": {
    "datalore": {
     "type": "MD",
     "hide_input_from_viewers": false,
     "hide_output_from_viewers": false
    }
   }
  },
  {
   "cell_type": "code",
   "source": [
    "from sklearn.naive_bayes import GaussianNB\n",
    "classifier_bayes = GaussianNB()\n",
    "classifier_training(classifier_bayes, X_train, y_train)"
   ],
   "execution_count": 27,
   "outputs": [
    {
     "name": "stdout",
     "text": [
      "classifier_training 2.58 ms\n"
     ],
     "output_type": "stream"
    }
   ],
   "metadata": {
    "datalore": {
     "type": "CODE",
     "hide_input_from_viewers": false,
     "hide_output_from_viewers": false
    }
   }
  },
  {
   "cell_type": "code",
   "source": [
    "# score:\n",
    "_, _, acc_bayes = compute_score(classifier_bayes, X_test, y_test)"
   ],
   "execution_count": 28,
   "outputs": [
    {
     "name": "stdout",
     "text": [
      "Accuracy score for GaussianNB: 73.24%\n"
     ],
     "output_type": "stream"
    }
   ],
   "metadata": {
    "datalore": {
     "type": "CODE",
     "hide_input_from_viewers": false,
     "hide_output_from_viewers": false
    }
   }
  },
  {
   "cell_type": "markdown",
   "source": [
    "### Decision tree classification"
   ],
   "attachments": {},
   "metadata": {
    "datalore": {
     "type": "MD",
     "hide_input_from_viewers": false,
     "hide_output_from_viewers": false
    }
   }
  },
  {
   "cell_type": "code",
   "source": [
    "from sklearn.tree import DecisionTreeClassifier\n",
    "classifier_decision_tree = DecisionTreeClassifier(criterion='entropy', random_state=0)\n",
    "classifier_training(classifier_decision_tree, X_train, y_train)"
   ],
   "execution_count": 29,
   "outputs": [
    {
     "name": "stdout",
     "text": [
      "classifier_training 31.98 ms\n"
     ],
     "output_type": "stream"
    }
   ],
   "metadata": {
    "datalore": {
     "type": "CODE",
     "hide_input_from_viewers": false,
     "hide_output_from_viewers": false
    }
   }
  },
  {
   "cell_type": "code",
   "source": [
    "# score:\n",
    "_, _, acc_decision_tree = compute_score(classifier_decision_tree, X_test, y_test)"
   ],
   "execution_count": 30,
   "outputs": [
    {
     "name": "stdout",
     "text": [
      "Accuracy score for DecisionTreeClassifier: 90.45%\n"
     ],
     "output_type": "stream"
    }
   ],
   "metadata": {
    "datalore": {
     "type": "CODE",
     "hide_input_from_viewers": false,
     "hide_output_from_viewers": false
    }
   }
  },
  {
   "cell_type": "markdown",
   "source": [
    "### Random Forest"
   ],
   "attachments": {},
   "metadata": {
    "datalore": {
     "type": "MD",
     "hide_input_from_viewers": false,
     "hide_output_from_viewers": false
    }
   }
  },
  {
   "cell_type": "code",
   "source": [
    "from sklearn.ensemble import RandomForestClassifier\n",
    "\n",
    "classifier_random_forest = RandomForestClassifier(n_estimators=100, random_state=42)\n",
    "classifier_training(classifier_random_forest, X_train, y_train)"
   ],
   "execution_count": 31,
   "outputs": [
    {
     "name": "stdout",
     "text": [
      "classifier_training 861.53 ms\n"
     ],
     "output_type": "stream"
    }
   ],
   "metadata": {
    "datalore": {
     "type": "CODE",
     "hide_input_from_viewers": false,
     "hide_output_from_viewers": false
    }
   }
  },
  {
   "cell_type": "code",
   "source": [
    "# score:\n",
    "_, _, acc_random_forest = compute_score(classifier_random_forest, X_test, y_test)"
   ],
   "execution_count": 32,
   "outputs": [
    {
     "name": "stdout",
     "text": [
      "Accuracy score for RandomForestClassifier: 94.37%\n"
     ],
     "output_type": "stream"
    }
   ],
   "metadata": {
    "datalore": {
     "type": "CODE",
     "hide_input_from_viewers": false,
     "hide_output_from_viewers": false
    }
   }
  },
  {
   "cell_type": "markdown",
   "source": [
    "### LightGBM (LGBM)"
   ],
   "attachments": {},
   "metadata": {
    "datalore": {
     "type": "MD",
     "hide_input_from_viewers": false,
     "hide_output_from_viewers": false
    }
   }
  },
  {
   "cell_type": "code",
   "source": [
    "!pip install lightgbm"
   ],
   "execution_count": 33,
   "outputs": [
    {
     "name": "stdout",
     "text": [
      "Collecting lightgbm\r\n",
      "  Downloading lightgbm-3.3.2-py3-none-manylinux1_x86_64.whl (2.0 MB)\r\n",
      "\u001B[?25l\r\r     |▏                               | 10 kB 27.6 MB/s eta 0:00:01\r     |▎                               | 20 kB 30.1 MB/s eta 0:00:01\r     |▌                               | 30 kB 34.4 MB/s eta 0:00:01\r     |▋                               | 40 kB 36.4 MB/s eta 0:00:01\r     |▉                               | 51 kB 23.1 MB/s eta 0:00:01\r     |█                               | 61 kB 25.5 MB/s eta 0:00:01\r     |█▏                              | 71 kB 23.9 MB/s eta 0:00:01\r     |█▎                              | 81 kB 24.9 MB/s eta 0:00:01\r     |█▌                              | 92 kB 25.8 MB/s eta 0:00:01\r     |█▋                              | 102 kB 26.8 MB/s eta 0:00:01\r     |█▉                              | 112 kB 26.8 MB/s eta 0:00:01\r     |██                              | 122 kB 26.8 MB/s eta 0:00:01\r     |██▏                             | 133 kB 26.8 MB/s eta 0:00:01\r     |██▎                             | 143 kB 26.8 MB/s eta 0:00:01\r     |██▌                             | 153 kB 26.8 MB/s eta 0:00:01\r     |██▋                             | 163 kB 26.8 MB/s eta 0:00:01\r     |██▉                             | 174 kB 26.8 MB/s eta 0:00:01\r     |███                             | 184 kB 26.8 MB/s eta 0:00:01\r     |███▏                            | 194 kB 26.8 MB/s eta 0:00:01\r     |███▎                            | 204 kB 26.8 MB/s eta 0:00:01\r     |███▍                            | 215 kB 26.8 MB/s eta 0:00:01\r     |███▋                            | 225 kB 26.8 MB/s eta 0:00:01\r     |███▊                            | 235 kB 26.8 MB/s eta 0:00:01\r     |████                            | 245 kB 26.8 MB/s eta 0:00:01\r     |████                            | 256 kB 26.8 MB/s eta 0:00:01\r     |████▎                           | 266 kB 26.8 MB/s eta 0:00:01\r     |████▍                           | 276 kB 26.8 MB/s eta 0:00:01\r     |████▋                           | 286 kB 26.8 MB/s eta 0:00:01\r     |████▊                           | 296 kB 26.8 MB/s eta 0:00:01\r     |█████                           | 307 kB 26.8 MB/s eta 0:00:01\r     |█████                           | 317 kB 26.8 MB/s eta 0:00:01\r     |█████▎                          | 327 kB 26.8 MB/s eta 0:00:01\r     |█████▍                          | 337 kB 26.8 MB/s eta 0:00:01\r     |█████▋                          | 348 kB 26.8 MB/s eta 0:00:01\r     |█████▊                          | 358 kB 26.8 MB/s eta 0:00:01\r     |██████                          | 368 kB 26.8 MB/s eta 0:00:01\r     |██████                          | 378 kB 26.8 MB/s eta 0:00:01\r     |██████▎                         | 389 kB 26.8 MB/s eta 0:00:01\r     |██████▍                         | 399 kB 26.8 MB/s eta 0:00:01\r     |██████▌                         | 409 kB 26.8 MB/s eta 0:00:01\r     |██████▊                         | 419 kB 26.8 MB/s eta 0:00:01\r     |██████▉                         | 430 kB 26.8 MB/s eta 0:00:01\r     |███████                         | 440 kB 26.8 MB/s eta 0:00:01\r     |███████▏                        | 450 kB 26.8 MB/s eta 0:00:01\r     |███████▍                        | 460 kB 26.8 MB/s eta 0:00:01\r     |███████▌                        | 471 kB 26.8 MB/s eta 0:00:01\r     |███████▊                        | 481 kB 26.8 MB/s eta 0:00:01\r     |███████▉                        | 491 kB 26.8 MB/s eta 0:00:01\r     |████████                        | 501 kB 26.8 MB/s eta 0:00:01\r     |████████▏                       | 512 kB 26.8 MB/s eta 0:00:01\r     |████████▍                       | 522 kB 26.8 MB/s eta 0:00:01\r     |████████▌                       | 532 kB 26.8 MB/s eta 0:00:01\r     |████████▊                       | 542 kB 26.8 MB/s eta 0:00:01\r     |████████▉                       | 552 kB 26.8 MB/s eta 0:00:01\r     |█████████                       | 563 kB 26.8 MB/s eta 0:00:01\r     |█████████▏                      | 573 kB 26.8 MB/s eta 0:00:01\r     |█████████▍                      | 583 kB 26.8 MB/s eta 0:00:01\r     |█████████▌                      | 593 kB 26.8 MB/s eta 0:00:01\r     |█████████▊                      | 604 kB 26.8 MB/s eta 0:00:01\r     |█████████▉                      | 614 kB 26.8 MB/s eta 0:00:01\r     |██████████                      | 624 kB 26.8 MB/s eta 0:00:01\r     |██████████▏                     | 634 kB 26.8 MB/s eta 0:00:01\r     |██████████▎                     | 645 kB 26.8 MB/s eta 0:00:01\r     |██████████▌                     | 655 kB 26.8 MB/s eta 0:00:01\r     |██████████▋                     | 665 kB 26.8 MB/s eta 0:00:01\r     |██████████▉                     | 675 kB 26.8 MB/s eta 0:00:01\r     |███████████                     | 686 kB 26.8 MB/s eta 0:00:01\r     |███████████▏                    | 696 kB 26.8 MB/s eta 0:00:01\r     |███████████▎                    | 706 kB 26.8 MB/s eta 0:00:01\r     |███████████▌                    | 716 kB 26.8 MB/s eta 0:00:01\r     |███████████▋                    | 727 kB 26.8 MB/s eta 0:00:01\r     |███████████▉                    | 737 kB 26.8 MB/s eta 0:00:01\r     |████████████                    | 747 kB 26.8 MB/s eta 0:00:01\r     |████████████▏                   | 757 kB 26.8 MB/s eta 0:00:01\r     |████████████▎                   | 768 kB 26.8 MB/s eta 0:00:01\r     |████████████▌                   | 778 kB 26.8 MB/s eta 0:00:01\r     |████████████▋                   | 788 kB 26.8 MB/s eta 0:00:01\r     |████████████▉                   | 798 kB 26.8 MB/s eta 0:00:01\r     |█████████████                   | 808 kB 26.8 MB/s eta 0:00:01\r     |█████████████                   | 819 kB 26.8 MB/s eta 0:00:01\r     |█████████████▎                  | 829 kB 26.8 MB/s eta 0:00:01\r     |█████████████▍                  | 839 kB 26.8 MB/s eta 0:00:01\r     |█████████████▋                  | 849 kB 26.8 MB/s eta 0:00:01\r     |█████████████▊                  | 860 kB 26.8 MB/s eta 0:00:01\r     |██████████████                  | 870 kB 26.8 MB/s eta 0:00:01\r     |██████████████                  | 880 kB 26.8 MB/s eta 0:00:01\r     |██████████████▎                 | 890 kB 26.8 MB/s eta 0:00:01\r     |██████████████▍                 | 901 kB 26.8 MB/s eta 0:00:01\r     |██████████████▋                 | 911 kB 26.8 MB/s eta 0:00:01\r     |██████████████▊                 | 921 kB 26.8 MB/s eta 0:00:01\r     |███████████████                 | 931 kB 26.8 MB/s eta 0:00:01\r     |███████████████                 | 942 kB 26.8 MB/s eta 0:00:01\r     |███████████████▎                | 952 kB 26.8 MB/s eta 0:00:01\r     |███████████████▍                | 962 kB 26.8 MB/s eta 0:00:01\r     |███████████████▋                | 972 kB 26.8 MB/s eta 0:00:01\r     |███████████████▊                | 983 kB 26.8 MB/s eta 0:00:01\r     |████████████████                | 993 kB 26.8 MB/s eta 0:00:01\r     |████████████████                | 1.0 MB 26.8 MB/s eta 0:00:01\r     |████████████████▏               | 1.0 MB 26.8 MB/s eta 0:00:01\r     |████████████████▍               | 1.0 MB 26.8 MB/s eta 0:00:01\r     |████████████████▌               | 1.0 MB 26.8 MB/s eta 0:00:01\r     |████████████████▊               | 1.0 MB 26.8 MB/s eta 0:00:01\r     |████████████████▉               | 1.1 MB 26.8 MB/s eta 0:00:01\r     |█████████████████               | 1.1 MB 26.8 MB/s eta 0:00:01\r     |█████████████████▏              | 1.1 MB 26.8 MB/s eta 0:00:01\r     |█████████████████▍              | 1.1 MB 26.8 MB/s eta 0:00:01\r     |█████████████████▌              | 1.1 MB 26.8 MB/s eta 0:00:01\r     |█████████████████▊              | 1.1 MB 26.8 MB/s eta 0:00:01\r     |█████████████████▉              | 1.1 MB 26.8 MB/s eta 0:00:01\r     |██████████████████              | 1.1 MB 26.8 MB/s eta 0:00:01\r     |██████████████████▏             | 1.1 MB 26.8 MB/s eta 0:00:01\r     |██████████████████▍             | 1.1 MB 26.8 MB/s eta 0:00:01\r     |██████████████████▌             | 1.2 MB 26.8 MB/s eta 0:00:01\r     |██████████████████▊             | 1.2 MB 26.8 MB/s eta 0:00:01\r     |██████████████████▉             | 1.2 MB 26.8 MB/s eta 0:00:01\r     |███████████████████             | 1.2 MB 26.8 MB/s eta 0:00:01\r     |███████████████████▏            | 1.2 MB 26.8 MB/s eta 0:00:01\r     |███████████████████▍            | 1.2 MB 26.8 MB/s eta 0:00:01\r     |███████████████████▌            | 1.2 MB 26.8 MB/s eta 0:00:01\r     |███████████████████▋            | 1.2 MB 26.8 MB/s eta 0:00:01\r     |███████████████████▉            | 1.2 MB 26.8 MB/s eta 0:00:01\r     |████████████████████            | 1.2 MB 26.8 MB/s eta 0:00:01\r     |████████████████████▏           | 1.3 MB 26.8 MB/s eta 0:00:01\r     |████████████████████▎           | 1.3 MB 26.8 MB/s eta 0:00:01\r     |████████████████████▌           | 1.3 MB 26.8 MB/s eta 0:00:01\r     |████████████████████▋           | 1.3 MB 26.8 MB/s eta 0:00:01\r     |████████████████████▉           | 1.3 MB 26.8 MB/s eta 0:00:01\r     |█████████████████████           | 1.3 MB 26.8 MB/s eta 0:00:01\r     |█████████████████████▏          | 1.3 MB 26.8 MB/s eta 0:00:01\r     |█████████████████████▎          | 1.3 MB 26.8 MB/s eta 0:00:01\r     |█████████████████████▌          | 1.3 MB 26.8 MB/s eta 0:00:01\r     |█████████████████████▋          | 1.4 MB 26.8 MB/s eta 0:00:01\r     |█████████████████████▉          | 1.4 MB 26.8 MB/s eta 0:00:01\r     |██████████████████████          | 1.4 MB 26.8 MB/s eta 0:00:01\r     |██████████████████████▏         | 1.4 MB 26.8 MB/s eta 0:00:01\r     |██████████████████████▎         | 1.4 MB 26.8 MB/s eta 0:00:01\r     |██████████████████████▌         | 1.4 MB 26.8 MB/s eta 0:00:01\r     |██████████████████████▋         | 1.4 MB 26.8 MB/s eta 0:00:01\r     |██████████████████████▊         | 1.4 MB 26.8 MB/s eta 0:00:01\r     |███████████████████████         | 1.4 MB 26.8 MB/s eta 0:00:01\r     |███████████████████████         | 1.4 MB 26.8 MB/s eta 0:00:01\r     |███████████████████████▎        | 1.5 MB 26.8 MB/s eta 0:00:01\r     |███████████████████████▍        | 1.5 MB 26.8 MB/s eta 0:00:01\r     |███████████████████████▋        | 1.5 MB 26.8 MB/s eta 0:00:01\r     |███████████████████████▊        | 1.5 MB 26.8 MB/s eta 0:00:01\r     |████████████████████████        | 1.5 MB 26.8 MB/s eta 0:00:01\r     |████████████████████████        | 1.5 MB 26.8 MB/s eta 0:00:01\r     |████████████████████████▎       | 1.5 MB 26.8 MB/s eta 0:00:01\r     |████████████████████████▍       | 1.5 MB 26.8 MB/s eta 0:00:01\r     |████████████████████████▋       | 1.5 MB 26.8 MB/s eta 0:00:01\r     |████████████████████████▊       | 1.5 MB 26.8 MB/s eta 0:00:01\r     |█████████████████████████       | 1.6 MB 26.8 MB/s eta 0:00:01\r     |█████████████████████████       | 1.6 MB 26.8 MB/s eta 0:00:01\r     |█████████████████████████▎      | 1.6 MB 26.8 MB/s eta 0:00:01\r     |█████████████████████████▍      | 1.6 MB 26.8 MB/s eta 0:00:01\r     |█████████████████████████▋      | 1.6 MB 26.8 MB/s eta 0:00:01\r     |█████████████████████████▊      | 1.6 MB 26.8 MB/s eta 0:00:01\r     |█████████████████████████▉      | 1.6 MB 26.8 MB/s eta 0:00:01\r     |██████████████████████████      | 1.6 MB 26.8 MB/s eta 0:00:01\r     |██████████████████████████▏     | 1.6 MB 26.8 MB/s eta 0:00:01\r     |██████████████████████████▍     | 1.6 MB 26.8 MB/s eta 0:00:01\r     |██████████████████████████▌     | 1.7 MB 26.8 MB/s eta 0:00:01\r     |██████████████████████████▊     | 1.7 MB 26.8 MB/s eta 0:00:01\r     |██████████████████████████▉     | 1.7 MB 26.8 MB/s eta 0:00:01\r     |███████████████████████████     | 1.7 MB 26.8 MB/s eta 0:00:01\r     |███████████████████████████▏    | 1.7 MB 26.8 MB/s eta 0:00:01\r     |███████████████████████████▍    | 1.7 MB 26.8 MB/s eta 0:00:01\r     |███████████████████████████▌    | 1.7 MB 26.8 MB/s eta 0:00:01\r     |███████████████████████████▊    | 1.7 MB 26.8 MB/s eta 0:00:01\r     |███████████████████████████▉    | 1.7 MB 26.8 MB/s eta 0:00:01\r     |████████████████████████████    | 1.8 MB 26.8 MB/s eta 0:00:01\r     |████████████████████████████▏   | 1.8 MB 26.8 MB/s eta 0:00:01\r     |████████████████████████████▍   | 1.8 MB 26.8 MB/s eta 0:00:01\r     |████████████████████████████▌   | 1.8 MB 26.8 MB/s eta 0:00:01\r     |████████████████████████████▊   | 1.8 MB 26.8 MB/s eta 0:00:01\r     |████████████████████████████▉   | 1.8 MB 26.8 MB/s eta 0:00:01\r     |█████████████████████████████   | 1.8 MB 26.8 MB/s eta 0:00:01\r     |█████████████████████████████▏  | 1.8 MB 26.8 MB/s eta 0:00:01\r     |█████████████████████████████▎  | 1.8 MB 26.8 MB/s eta 0:00:01\r     |█████████████████████████████▌  | 1.8 MB 26.8 MB/s eta 0:00:01\r     |█████████████████████████████▋  | 1.9 MB 26.8 MB/s eta 0:00:01\r     |█████████████████████████████▉  | 1.9 MB 26.8 MB/s eta 0:00:01\r     |██████████████████████████████  | 1.9 MB 26.8 MB/s eta 0:00:01\r     |██████████████████████████████▏ | 1.9 MB 26.8 MB/s eta 0:00:01\r     |██████████████████████████████▎ | 1.9 MB 26.8 MB/s eta 0:00:01\r     |██████████████████████████████▌ | 1.9 MB 26.8 MB/s eta 0:00:01\r     |██████████████████████████████▋ | 1.9 MB 26.8 MB/s eta 0:00:01\r     |██████████████████████████████▉ | 1.9 MB 26.8 MB/s eta 0:00:01\r     |███████████████████████████████ | 1.9 MB 26.8 MB/s eta 0:00:01\r     |███████████████████████████████▏| 1.9 MB 26.8 MB/s eta 0:00:01\r     |███████████████████████████████▎| 2.0 MB 26.8 MB/s eta 0:00:01\r     |███████████████████████████████▌| 2.0 MB 26.8 MB/s eta 0:00:01\r     |███████████████████████████████▋| 2.0 MB 26.8 MB/s eta 0:00:01\r     |███████████████████████████████▉| 2.0 MB 26.8 MB/s eta 0:00:01\r     |████████████████████████████████| 2.0 MB 26.8 MB/s eta 0:00:01\r     |████████████████████████████████| 2.0 MB 26.8 MB/s            \r\n",
      "\u001B[?25hRequirement already satisfied: scikit-learn!=0.22.0 in /opt/python/envs/default/lib/python3.8/site-packages (from lightgbm) (1.0.1)\r\n",
      "Requirement already satisfied: wheel in /opt/python/envs/default/lib/python3.8/site-packages (from lightgbm) (0.37.1)\r\n",
      "Requirement already satisfied: scipy in /opt/python/envs/default/lib/python3.8/site-packages (from lightgbm) (1.7.3)\r\n",
      "Requirement already satisfied: numpy in /opt/python/envs/default/lib/python3.8/site-packages (from lightgbm) (1.21.5)\r\n",
      "Requirement already satisfied: joblib>=0.11 in /opt/python/envs/default/lib/python3.8/site-packages (from scikit-learn!=0.22.0->lightgbm) (1.1.0)\r\n",
      "Requirement already satisfied: threadpoolctl>=2.0.0 in /opt/python/envs/default/lib/python3.8/site-packages (from scikit-learn!=0.22.0->lightgbm) (3.1.0)\r\n",
      "Installing collected packages: lightgbm\r\n",
      "Successfully installed lightgbm-3.3.2\r\n",
      "\u001B[33mWARNING: You are using pip version 21.3.1; however, version 22.0.3 is available.\r\n",
      "You should consider upgrading via the '/opt/python/envs/default/bin/python -m pip install --upgrade pip' command.\u001B[0m\r\n"
     ],
     "output_type": "stream"
    }
   ],
   "metadata": {
    "datalore": {
     "type": "CODE",
     "hide_input_from_viewers": false,
     "hide_output_from_viewers": false
    }
   }
  },
  {
   "cell_type": "code",
   "source": [
    "from lightgbm import LGBMClassifier\n",
    "\n",
    "classifier_lgbm = LGBMClassifier(n_estimators=100, random_state=42)\n",
    "classifier_training(classifier_lgbm, X_train, y_train)"
   ],
   "execution_count": 34,
   "outputs": [
    {
     "name": "stdout",
     "text": [
      "classifier_training 179.23 ms\n"
     ],
     "output_type": "stream"
    }
   ],
   "metadata": {
    "datalore": {
     "type": "CODE",
     "hide_input_from_viewers": false,
     "hide_output_from_viewers": false
    }
   }
  },
  {
   "cell_type": "code",
   "source": [
    "# score:\n",
    "_, _, acc_lgbm = compute_score(classifier_lgbm, X_test, y_test)"
   ],
   "execution_count": 35,
   "outputs": [
    {
     "name": "stdout",
     "text": [
      "Accuracy score for LGBMClassifier: 94.29%\n"
     ],
     "output_type": "stream"
    }
   ],
   "metadata": {
    "datalore": {
     "type": "CODE",
     "hide_input_from_viewers": false,
     "hide_output_from_viewers": false
    }
   }
  },
  {
   "cell_type": "markdown",
   "source": [
    "### XGBoost (XGB)"
   ],
   "attachments": {},
   "metadata": {
    "datalore": {
     "type": "MD",
     "hide_input_from_viewers": false,
     "hide_output_from_viewers": false
    }
   }
  },
  {
   "cell_type": "code",
   "source": [
    "from xgboost import XGBClassifier\n",
    "\n",
    "classifier_xgb = XGBClassifier(objective=\"binary:logistic\", random_state=42)\n",
    "classifier_training(classifier_xgb, X_train, y_train)"
   ],
   "execution_count": 36,
   "outputs": [
    {
     "name": "stdout",
     "text": [
      "[02:40:45] WARNING: ../src/learner.cc:1115: Starting in XGBoost 1.3.0, the default evaluation metric used with the objective 'binary:logistic' was changed from 'error' to 'logloss'. Explicitly set eval_metric if you'd like to restore the old behavior.\n",
      "classifier_training 829.86 ms\n"
     ],
     "output_type": "stream"
    },
    {
     "name": "stderr",
     "text": [
      "/opt/python/envs/default/lib/python3.8/site-packages/xgboost/sklearn.py:1224: UserWarning: The use of label encoder in XGBClassifier is deprecated and will be removed in a future release. To remove this warning, do the following: 1) Pass option use_label_encoder=False when constructing XGBClassifier object; and 2) Encode your labels (y) as integers starting with 0, i.e. 0, 1, 2, ..., [num_class - 1].\n",
      "  warnings.warn(label_encoder_deprecation_msg, UserWarning)\n"
     ],
     "output_type": "stream"
    }
   ],
   "metadata": {
    "datalore": {
     "type": "CODE",
     "hide_input_from_viewers": false,
     "hide_output_from_viewers": false
    }
   }
  },
  {
   "cell_type": "code",
   "source": [
    "# score:\n",
    "_, _, acc_xgb = compute_score(classifier_xgb, X_test, y_test)"
   ],
   "execution_count": 37,
   "outputs": [
    {
     "name": "stdout",
     "text": [
      "Accuracy score for XGBClassifier: 93.58%\n"
     ],
     "output_type": "stream"
    }
   ],
   "metadata": {
    "datalore": {
     "type": "CODE",
     "hide_input_from_viewers": false,
     "hide_output_from_viewers": false
    }
   }
  },
  {
   "cell_type": "markdown",
   "source": [
    "## Models Accuracy resume"
   ],
   "attachments": {},
   "metadata": {
    "datalore": {
     "type": "MD",
     "hide_input_from_viewers": false,
     "hide_output_from_viewers": false
    }
   }
  },
  {
   "cell_type": "code",
   "source": [
    "acc=[]\n",
    "models=[]\n",
    "\n",
    "acc.append(acc_log_reg)\n",
    "models.append(\"Logistic Regression\")\n",
    "acc.append(acc_svm)\n",
    "models.append(\"SVM\")\n",
    "acc.append(acc_knn)\n",
    "models.append(\"KNN\")\n",
    "acc.append(acc_bayes)\n",
    "models.append(\"Naive Bayes\")\n",
    "acc.append(acc_decision_tree)\n",
    "models.append(\"DTR\")\n",
    "acc.append(acc_random_forest)\n",
    "models.append(\"Random forest\")\n",
    "acc.append(acc_lgbm)\n",
    "models.append(\"LGBM\")\n",
    "acc.append(acc_xgb)\n",
    "models.append(\"XGB\")\n",
    "\n",
    "plt.rcParams['figure.figsize']=8,6\n",
    "sns.set_style(\"darkgrid\")\n",
    "ax = sns.barplot(x=models, y=acc, palette = \"rocket\", saturation =1.5)\n",
    "plt.xlabel(\"Classification Models\", fontsize = 20 )\n",
    "plt.ylabel(\"Accuracy\", fontsize = 20)\n",
    "plt.title(\"Accuracy of different Classification Models\", fontsize = 20)\n",
    "plt.xticks(fontsize = 11, horizontalalignment = 'center', rotation = 8)\n",
    "plt.yticks(fontsize = 13)\n",
    "\n",
    "for p in ax.patches:\n",
    "    width, height = p.get_width(), p.get_height()\n",
    "    x, y = p.get_xy() \n",
    "    ax.annotate(f'{height:.2%}', (x + width/2, y + height*1.02), ha='center', fontsize = 'x-large')\n",
    "plt.show()"
   ],
   "execution_count": 38,
   "outputs": [
    {
     "data": {
      "image/png": "[encoded data removed]"
     },
     "metadata": {
      "image/png": {}
     },
     "output_type": "display_data"
    }
   ],
   "metadata": {
    "datalore": {
     "type": "CODE",
     "hide_input_from_viewers": false,
     "hide_output_from_viewers": false
    }
   }
  },
  {
   "cell_type": "markdown",
   "source": [
    "## Conclusion\n",
    "\n",
    "- model choice?\n",
    "- most relevent features to predict stroke?\n",
    "- what next?\n",
    "    - optimization model?\n",
    "    - cross validation? why? (maybe to see if the chosen model is robust?)\n",
    "    - gridsearch?"
   ],
   "attachments": {},
   "metadata": {
    "datalore": {
     "type": "MD",
     "hide_input_from_viewers": false,
     "hide_output_from_viewers": false
    }
   }
  },
  {
   "cell_type": "code",
   "source": [],
   "execution_count": 0,
   "outputs": [],
   "metadata": {
    "datalore": {
     "type": "CODE",
     "hide_input_from_viewers": false,
     "hide_output_from_viewers": false
    }
   }
  }
 ],
 "metadata": {
  "datalore": {
   "version": 1,
   "computation_mode": "JUPYTER",
   "package_manager": "pip",
   "base_environment": "default",
   "packages": []
  }
 },
 "nbformat": 4,
 "nbformat_minor": 4
}